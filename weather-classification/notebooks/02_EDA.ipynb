{
 "cells": [
  {
   "cell_type": "code",
   "execution_count": 29,
   "metadata": {},
   "outputs": [],
   "source": [
    "\n",
    "import pandas as pd\n",
    "import seaborn as sns\n",
    "import matplotlib.pyplot as plt\n",
    "import os\n",
    "\n",
    "# load the data\n",
    "data = pd.read_csv('../data/processed/Weather_processed.csv')\n",
    "\n",
    "# check if the results folder exists, if not create it\n",
    "if not os.path.exists(\"../results/figures\"):\n",
    "    os.makedirs(\"../results/figures\")"
   ]
  },
  {
   "cell_type": "code",
   "execution_count": 30,
   "metadata": {},
   "outputs": [
    {
     "data": {
      "text/html": [
       "<div>\n",
       "<style scoped>\n",
       "    .dataframe tbody tr th:only-of-type {\n",
       "        vertical-align: middle;\n",
       "    }\n",
       "\n",
       "    .dataframe tbody tr th {\n",
       "        vertical-align: top;\n",
       "    }\n",
       "\n",
       "    .dataframe thead th {\n",
       "        text-align: right;\n",
       "    }\n",
       "</style>\n",
       "<table border=\"1\" class=\"dataframe\">\n",
       "  <thead>\n",
       "    <tr style=\"text-align: right;\">\n",
       "      <th></th>\n",
       "      <th>temperature</th>\n",
       "      <th>humidity</th>\n",
       "      <th>wind_speed</th>\n",
       "      <th>precipitation_(%)</th>\n",
       "      <th>atmospheric_pressure</th>\n",
       "      <th>uv_index</th>\n",
       "      <th>visibility_(km)</th>\n",
       "    </tr>\n",
       "  </thead>\n",
       "  <tbody>\n",
       "    <tr>\n",
       "      <th>count</th>\n",
       "      <td>13200.000000</td>\n",
       "      <td>13200.000000</td>\n",
       "      <td>13200.000000</td>\n",
       "      <td>13200.000000</td>\n",
       "      <td>13200.000000</td>\n",
       "      <td>13200.000000</td>\n",
       "      <td>13200.000000</td>\n",
       "    </tr>\n",
       "    <tr>\n",
       "      <th>mean</th>\n",
       "      <td>19.127576</td>\n",
       "      <td>68.710833</td>\n",
       "      <td>9.832197</td>\n",
       "      <td>53.644394</td>\n",
       "      <td>1005.827896</td>\n",
       "      <td>4.005758</td>\n",
       "      <td>5.462917</td>\n",
       "    </tr>\n",
       "    <tr>\n",
       "      <th>std</th>\n",
       "      <td>17.386327</td>\n",
       "      <td>20.194248</td>\n",
       "      <td>6.908704</td>\n",
       "      <td>31.946541</td>\n",
       "      <td>37.199589</td>\n",
       "      <td>3.856600</td>\n",
       "      <td>3.371499</td>\n",
       "    </tr>\n",
       "    <tr>\n",
       "      <th>min</th>\n",
       "      <td>-25.000000</td>\n",
       "      <td>20.000000</td>\n",
       "      <td>0.000000</td>\n",
       "      <td>0.000000</td>\n",
       "      <td>800.120000</td>\n",
       "      <td>0.000000</td>\n",
       "      <td>0.000000</td>\n",
       "    </tr>\n",
       "    <tr>\n",
       "      <th>25%</th>\n",
       "      <td>4.000000</td>\n",
       "      <td>57.000000</td>\n",
       "      <td>5.000000</td>\n",
       "      <td>19.000000</td>\n",
       "      <td>994.800000</td>\n",
       "      <td>1.000000</td>\n",
       "      <td>3.000000</td>\n",
       "    </tr>\n",
       "    <tr>\n",
       "      <th>50%</th>\n",
       "      <td>21.000000</td>\n",
       "      <td>70.000000</td>\n",
       "      <td>9.000000</td>\n",
       "      <td>58.000000</td>\n",
       "      <td>1007.650000</td>\n",
       "      <td>3.000000</td>\n",
       "      <td>5.000000</td>\n",
       "    </tr>\n",
       "    <tr>\n",
       "      <th>75%</th>\n",
       "      <td>31.000000</td>\n",
       "      <td>84.000000</td>\n",
       "      <td>13.500000</td>\n",
       "      <td>82.000000</td>\n",
       "      <td>1016.772500</td>\n",
       "      <td>7.000000</td>\n",
       "      <td>7.500000</td>\n",
       "    </tr>\n",
       "    <tr>\n",
       "      <th>max</th>\n",
       "      <td>109.000000</td>\n",
       "      <td>109.000000</td>\n",
       "      <td>48.500000</td>\n",
       "      <td>109.000000</td>\n",
       "      <td>1199.210000</td>\n",
       "      <td>14.000000</td>\n",
       "      <td>20.000000</td>\n",
       "    </tr>\n",
       "  </tbody>\n",
       "</table>\n",
       "</div>"
      ],
      "text/plain": [
       "        temperature      humidity    wind_speed  precipitation_(%)  \\\n",
       "count  13200.000000  13200.000000  13200.000000       13200.000000   \n",
       "mean      19.127576     68.710833      9.832197          53.644394   \n",
       "std       17.386327     20.194248      6.908704          31.946541   \n",
       "min      -25.000000     20.000000      0.000000           0.000000   \n",
       "25%        4.000000     57.000000      5.000000          19.000000   \n",
       "50%       21.000000     70.000000      9.000000          58.000000   \n",
       "75%       31.000000     84.000000     13.500000          82.000000   \n",
       "max      109.000000    109.000000     48.500000         109.000000   \n",
       "\n",
       "       atmospheric_pressure      uv_index  visibility_(km)  \n",
       "count          13200.000000  13200.000000     13200.000000  \n",
       "mean            1005.827896      4.005758         5.462917  \n",
       "std               37.199589      3.856600         3.371499  \n",
       "min              800.120000      0.000000         0.000000  \n",
       "25%              994.800000      1.000000         3.000000  \n",
       "50%             1007.650000      3.000000         5.000000  \n",
       "75%             1016.772500      7.000000         7.500000  \n",
       "max             1199.210000     14.000000        20.000000  "
      ]
     },
     "execution_count": 30,
     "metadata": {},
     "output_type": "execute_result"
    }
   ],
   "source": [
    "# Basic statistics\n",
    "data.describe()"
   ]
  },
  {
   "cell_type": "code",
   "execution_count": 31,
   "metadata": {},
   "outputs": [],
   "source": [
    " # Select numeric columns for correlation matrix\n",
    "numeric_cols = data.select_dtypes(include=[\"float64\", \"int64\"]).columns"
   ]
  },
  {
   "cell_type": "code",
   "execution_count": 32,
   "metadata": {},
   "outputs": [
    {
     "name": "stdout",
     "output_type": "stream",
     "text": [
      "Generating Correlation Matrix...\n",
      "Correlation Matrix saved in results/figures folder\n"
     ]
    }
   ],
   "source": [
    "# Correlation Matrix\n",
    "print(\"Generating Correlation Matrix...\")\n",
    "corr_matrix = data[numeric_cols].corr()\n",
    "plt.figure(figsize=(10, 8))\n",
    "sns.heatmap(corr_matrix, annot=True, cmap=\"coolwarm\", fmt=\".2f\", linewidths=0.5)\n",
    "plt.title(\"Correlation Matrix\")\n",
    "plt.savefig(\"../results/figures/correlation_matrix.png\")\n",
    "plt.close()\n",
    "\n",
    "print(\"Correlation Matrix saved in results/figures folder\")"
   ]
  },
  {
   "cell_type": "code",
   "execution_count": 33,
   "metadata": {},
   "outputs": [
    {
     "name": "stdout",
     "output_type": "stream",
     "text": [
      "Generating Distribution Plots...\n",
      "Distribution Plots saved in results/figures folder\n"
     ]
    }
   ],
   "source": [
    "# Distribution Plots for Numerical Variables\n",
    "print(\"Generating Distribution Plots...\")\n",
    "plt.figure(figsize=(12, 10))\n",
    "for i, col in enumerate(numeric_cols, 1):\n",
    "    plt.subplot(3, 3, i)\n",
    "    sns.histplot(data[col], kde=True)\n",
    "    plt.title(f\"Distribution of {col}\")\n",
    "    plt.xlabel(col)\n",
    "    plt.ylabel(\"Frequency\")\n",
    "plt.tight_layout()\n",
    "plt.savefig(\"../results/figures/distribution_plots.png\")\n",
    "plt.close()\n",
    "\n",
    "print(\"Distribution Plots saved in results/figures folder\")"
   ]
  },
  {
   "cell_type": "code",
   "execution_count": 34,
   "metadata": {},
   "outputs": [
    {
     "name": "stdout",
     "output_type": "stream",
     "text": [
      "Generating Categorical Plots...\n",
      "Categorical Plots saved in results/figures folder\n"
     ]
    }
   ],
   "source": [
    "\n",
    "# Categorical Plots\n",
    "print(\"Generating Categorical Plots...\")\n",
    "categorical_cols = [\"season\", \"location\", \"weather_type\"]\n",
    "plt.figure(figsize=(14, 12))\n",
    "for i, col in enumerate(categorical_cols, 1):\n",
    "    plt.subplot(3, 1, i)\n",
    "    sns.countplot(data=data, x=col, hue=\"weather_type\", palette=\"Set2\")\n",
    "    plt.title(f\"Countplot of {col} by weather_type\")\n",
    "    plt.xlabel(col)\n",
    "    plt.ylabel(\"Count\")\n",
    "\n",
    "    # Get current Axes object and legend information\n",
    "    ax = plt.gca()\n",
    "    handles, labels = ax.get_legend_handles_labels()\n",
    "\n",
    "    # Only add legend if labels are found\n",
    "    if labels:\n",
    "        ax.legend(\n",
    "            handles=handles, labels=labels, title=\"Weather Type\", loc=\"upper right\"\n",
    "        )\n",
    "    else:\n",
    "        pass\n",
    "plt.tight_layout()\n",
    "plt.savefig(\"../results/figures/categorical_plots.png\")\n",
    "plt.close()\n",
    "\n",
    "print(\"Categorical Plots saved in results/figures folder\")"
   ]
  },
  {
   "cell_type": "code",
   "execution_count": 35,
   "metadata": {},
   "outputs": [
    {
     "name": "stdout",
     "output_type": "stream",
     "text": [
      "Generating Box Plots...\n",
      "Box Plots saved in results/figures folder\n"
     ]
    }
   ],
   "source": [
    "# Box Plots\n",
    "print(\"Generating Box Plots...\")\n",
    "plt.figure(figsize=(12, 8))\n",
    "sns.boxplot(\n",
    "    data=data, x=\"season\", y=\"temperature\", hue=\"weather_type\", palette=\"Set3\"\n",
    ")\n",
    "plt.title(\"Boxplot of Temperature across Seasons by weather_type\")\n",
    "plt.xlabel(\"Season\")\n",
    "plt.ylabel(\"Temperature\")\n",
    "plt.legend(loc=\"upper right\")\n",
    "plt.savefig(\"../results/figures/boxplot_season_temperature.png\")\n",
    "plt.close()\n",
    "\n",
    "print(\"Box Plots saved in results/figures folder\")"
   ]
  },
  {
   "cell_type": "code",
   "execution_count": 36,
   "metadata": {},
   "outputs": [
    {
     "name": "stdout",
     "output_type": "stream",
     "text": [
      "EDA completed.\n"
     ]
    }
   ],
   "source": [
    "# print completion message\n",
    "print(\"EDA completed.\")"
   ]
  }
 ],
 "metadata": {
  "kernelspec": {
   "display_name": ".venv",
   "language": "python",
   "name": "python3"
  },
  "language_info": {
   "codemirror_mode": {
    "name": "ipython",
    "version": 3
   },
   "file_extension": ".py",
   "mimetype": "text/x-python",
   "name": "python",
   "nbconvert_exporter": "python",
   "pygments_lexer": "ipython3",
   "version": "3.12.4"
  }
 },
 "nbformat": 4,
 "nbformat_minor": 2
}
